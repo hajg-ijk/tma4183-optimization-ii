{
 "cells": [
  {
   "attachments": {},
   "cell_type": "markdown",
   "metadata": {},
   "source": [
    "# Tutorial II: Solving unconstrained optimal control problems using a All-at-once/One-shot method  \n",
    "\n",
    "Before we begin let\n",
    "\n",
    "$$\n",
    "% \\DeclareMathOperator{\\Div}{div}\n",
    "% \\DeclareMathOperator{\\Grad}{grad}\n",
    "% \\DeclareMathOperator{\\Curl}{curl}\n",
    "% \\DeclareMathOperator{\\Rot}{rot}\n",
    "% \\DeclareMathOperator{\\ord}{ord}\n",
    "% \\DeclareMathOperator{\\Kern}{ker}\n",
    "% \\DeclareMathOperator{\\Image}{im}\n",
    "% \\DeclareMathOperator{\\spann}{span}\n",
    "% \\DeclareMathOperator{\\dist}{dist}\n",
    "% \\DeclareMathOperator{\\diam}{diam}\n",
    "% \\DeclareMathOperator{\\sig}{sig}\n",
    "\\newcommand{\\RR}{\\mathbb{R}}\n",
    "\\newcommand{\\NN}{\\mathbb{N}}\n",
    "\\newcommand{\\VV}{\\mathbb{V}}\n",
    "\\newcommand{\\dGamma}{\\,\\mathrm{d} \\Gamma}\n",
    "\\newcommand{\\dGammah}{\\,\\mathrm{d} \\Gamma_h}\n",
    "\\newcommand{\\dx}{\\,\\mathrm{d}x}\n",
    "\\newcommand{\\dy}{\\,\\mathrm{d}y}\n",
    "\\newcommand{\\ds}{\\,\\mathrm{d}s}\n",
    "\\newcommand{\\dt}{\\,\\mathrm{d}t}\n",
    "\\newcommand{\\dS}{\\,\\mathrm{d}S}\n",
    "\\newcommand{\\dV}{\\,\\mathrm{d}V}\n",
    "\\newcommand{\\dX}{\\,\\mathrm{d}X}\n",
    "\\newcommand{\\dY}{\\,\\mathrm{d}Y}\n",
    "\\newcommand{\\dE}{\\,\\mathrm{d}E}\n",
    "\\newcommand{\\dK}{\\,\\mathrm{d}K}\n",
    "\\newcommand{\\dM}{\\,\\mathrm{d}M}\n",
    "\\newcommand{\\cd}{\\mathrm{cd}}\n",
    "\\newcommand{\\onehalf}{\\frac{1}{2}}\n",
    "\\newcommand{\\bfP}{\\boldsymbol P}\n",
    "\\newcommand{\\bfx}{\\boldsymbol x}\n",
    "\\newcommand{\\bfa}{\\boldsymbol a}\n",
    "\\newcommand{\\bfu}{\\boldsymbol u}\n",
    "\\newcommand{\\bfv}{\\boldsymbol v}\n",
    "\\newcommand{\\bfe}{\\boldsymbol e}\n",
    "\\newcommand{\\bfg}{\\boldsymbol g}\n",
    "\\newcommand{\\bfb}{\\boldsymbol b}\n",
    "\\newcommand{\\bff}{\\boldsymbol f}\n",
    "\\newcommand{\\bfp}{\\boldsymbol p}\n",
    "\\newcommand{\\bft}{\\boldsymbol t}\n",
    "\\newcommand{\\bfj}{\\boldsymbol j}\n",
    "\\newcommand{\\bfB}{\\boldsymbol B}\n",
    "\\newcommand{\\bfV}{\\boldsymbol V}\n",
    "\\newcommand{\\bfE}{\\boldsymbol E}\n",
    "\\newcommand{\\bfK}{\\boldsymbol K}\n",
    "\\newcommand{\\mcT}{\\mathcal{T}}\n",
    "\\newcommand{\\mcL}{\\mathcal{L}}\n",
    "\\newcommand{\\mcU}{\\mathcal{U}}\n",
    "\\newcommand{\\ubar}{\\overline{u}}\n",
    "\\newcommand{\\ybar}{\\overline{y}}\n",
    "\\newcommand{\\pbar}{\\overline{p}}\n",
    "$$\n",
    "\n"
   ]
  },
  {
   "attachments": {},
   "cell_type": "markdown",
   "metadata": {},
   "source": [
    "\n",
    "In this notebook we look again at the distributed optimal control problem\n",
    "\n",
    "\\begin{align*}\n",
    "J(y, u) = \\dfrac{1}{2} \\| y - y_{\\Omega}\\|_{\\Omega}^2 + \\dfrac{\\gamma}{2} \\| u \\|^2_{\\Omega} \\to \\min\n",
    "\\end{align*}\n",
    "\n",
    "subject to state equation\n",
    "\\begin{alignat}{2}\n",
    "-\\Delta y &= f + \\beta u & &\\quad \\text{in } \\Omega,\n",
    "\\\\\n",
    "        y &= 0 & & \\quad \\text{on } \\Gamma = \\partial \\Omega, \n",
    "\\end{alignat}\n",
    "and $u \\in \\mathcal{U}_{ad}$  for some convex subset of $\\mathcal{U} = L^2(\\Omega)$. Here,\n",
    "$\\beta $ is simply some positive constant, and for simplicity, we pick $\\Omega = (0,1)^2 \\subset \\mathbb{R}^2$. \n",
    "\n",
    "Finally, our target function is \n",
    "$$y_{\\Omega} = 10x_1(1-x_1)x_2(1-x_2).\n",
    "$$.\n",
    "This example is take from [ManzoniQuarteroniSalsa2021, Section 6.5.1, Test case 1](https://link.springer.com/10.1007/978-3-030-77226-0).\n"
   ]
  },
  {
   "attachments": {},
   "cell_type": "markdown",
   "metadata": {},
   "source": [
    "\n",
    "This time we want to solve the problem by solving the state, co-state problem and the optimality problem all at once. \n",
    "We start from the optimality system\n",
    "\\begin{align*}\n",
    "a(\\ybar, \\varphi)  &= (f + \\beta \\ubar, \\varphi)_{\\Omega}  \\quad \\forall \\varphi \\in V\n",
    "\\\\\n",
    "a(\\psi, \\pbar) &= (\\ybar - y_{\\Omega}, \\psi)_{\\Omega}  \\quad \\forall \\psi \\in V \n",
    "\\\\\n",
    "(\\gamma \\ubar + \\beta \\pbar, v)_{\\Omega} &= 0 \\quad \\forall v \\in \\mathcal{U}.\n",
    "\\end{align*} \n",
    "\n",
    "We can simply move all unknowns to the left-hand side to see that we need to find\n",
    "$(\\ybar, \\pbar, \\ubar) \\in V\\times V\\times U$ such that $\\forall\\; (\\phi, \\psi, v) \\in V \\times V \\times U$  \n",
    "\n",
    "\\begin{align*}\n",
    "a(\\ybar, \\varphi) - (\\beta \\ubar, \\varphi)_{\\Omega}  &= (f, \\varphi)_{\\Omega} \n",
    "\\\\\n",
    "a(\\psi, \\pbar) - (\\ybar, \\psi)_{\\Omega}&= -(y_{\\Omega}, \\psi)_{\\Omega} \n",
    "\\\\\n",
    "(\\gamma \\ubar + \\beta \\pbar, v)_{\\Omega} &= 0\n",
    "\\end{align*} \n",
    "\n",
    "Before we start implementing a solver for this system, let us activate our Julia project environment first. "
   ]
  },
  {
   "cell_type": "code",
   "execution_count": 2,
   "metadata": {},
   "outputs": [
    {
     "name": "stdout",
     "output_type": "stream",
     "text": [
      "\u001b[32m\u001b[1mStatus\u001b[22m\u001b[39m `~/Repositories/tma4183-optimization-ii/Project.toml`\n",
      "\u001b[33m⌅\u001b[39m\u001b[90m [13f3f980] \u001b[39mCairoMakie v0.8.13\n",
      " \u001b[90m [5789e2e9] \u001b[39mFileIO v1.16.0\n",
      "\u001b[33m⌅\u001b[39m\u001b[90m [e9467ef8] \u001b[39mGLMakie v0.6.13\n",
      " \u001b[90m [5c1252a2] \u001b[39mGeometryBasics v0.4.5\n",
      " \u001b[90m [705231aa] \u001b[39mGmsh v0.2.2\n",
      " \u001b[90m [56d4f2e9] \u001b[39mGridap v0.17.17\n",
      " \u001b[90m [3025c34a] \u001b[39mGridapGmsh v0.6.1\n",
      " \u001b[90m [41f30b06] \u001b[39mGridapMakie v0.1.2\n",
      " \u001b[90m [55e38337] \u001b[39mGridapODEs v0.8.0\n",
      " \u001b[90m [98b081ad] \u001b[39mLiterate v2.14.0\n",
      "\u001b[33m⌅\u001b[39m\u001b[90m [ee78f7c6] \u001b[39mMakie v0.17.13\n",
      " \u001b[90m [eacbb407] \u001b[39mMeshes v0.28.0\n",
      " \u001b[90m [f0f68f2c] \u001b[39mPlotlyJS v0.18.10\n",
      "\u001b[32m⌃\u001b[39m\u001b[90m [91a5bcdd] \u001b[39mPlots v1.32.0\n",
      "\u001b[32m⌃\u001b[39m\u001b[90m [276b4fcb] \u001b[39mWGLMakie v0.6.13\n",
      "\u001b[36m\u001b[1mInfo\u001b[22m\u001b[39m Packages marked with \u001b[32m⌃\u001b[39m and \u001b[33m⌅\u001b[39m have new versions available, but those with \u001b[33m⌅\u001b[39m cannot be upgraded. To see why use `status --outdated`\n"
     ]
    },
    {
     "name": "stderr",
     "output_type": "stream",
     "text": [
      "\u001b[32m\u001b[1m  Activating\u001b[22m\u001b[39m project at `~/Repositories/tma4183-optimization-ii`\n"
     ]
    }
   ],
   "source": [
    "import Pkg\n",
    "Pkg.activate(\"../\")\n",
    "Pkg.status()"
   ]
  },
  {
   "attachments": {},
   "cell_type": "markdown",
   "metadata": {},
   "source": [
    "## Problem 1\n",
    "\n",
    " * Implement a finite element solver for complete optimality system using the following Gridap code snippets.\n",
    " * Compare the resulting solution with the solution you obtained from Tutorial I where you where asked to implement\n",
    "a Steepest Descent method for the same OCP."
   ]
  },
  {
   "attachments": {},
   "cell_type": "markdown",
   "metadata": {},
   "source": [
    "First we need to define a mixed finite element space representing the Cartesian product of function spaces $V \\times V \\times U$.\n",
    "As usual we start with the test function space first. We discretize the state, co-state and optimality problem using the same finite element spaces,\n",
    "with the important distinction that $V$ in contrast to $U$ needs to incorporate boundary conditions as well.  \n",
    "\n",
    "```julia\n",
    "# Define your grid\n",
    "model = ...\n",
    "\n",
    "order = 1\n",
    "V_ref = ReferenceFE(lagrangian, Float64, order)\n",
    "U_ref = V_ref\n",
    "\n",
    "# Define individual spaces\n",
    "Vy = TestFESpace(model, V_ref, conformity=:H1, dirichlet_tags=\"boundary\")\n",
    "Vp = TestFESpace(model, V_ref, conformity=:H1, dirichlet_tags=\"boundary\")\n",
    "Vu = TestFESpace(model, V_ref, conformity=:H1)\n",
    "\n",
    "# Build the combined space\n",
    "X = MultiFieldFESpace([Vy, Vp, Vu])\n",
    "```"
   ]
  },
  {
   "attachments": {},
   "cell_type": "markdown",
   "metadata": {},
   "source": [
    "Next, we need to define the corresponding trial function spaces.\n",
    "```julia\n",
    "\n",
    "# Define boundary conditions for y and p\n",
    "y_D(x) = 0\n",
    "p_D(x) = 0\n",
    "\n",
    "Uy = TrialFESpace(Vy, y_D)\n",
    "Up = TrialFESpace(Vp, p_D)\n",
    "Uu = TrialFESpace(Vu)\n",
    "\n",
    "Y = MultiFieldFESpace(Uy, Up, Uu)\n",
    "```"
   ]
  },
  {
   "attachments": {},
   "cell_type": "markdown",
   "metadata": {},
   "source": [
    "You define you triangulations and measures as usual.\n",
    "Later, when you define your bilinear and linear forms, you define it for the **total** system, i.e. you combine\n",
    "all individual bilinear forms arising in our system into one single bilinear form:\n",
    "```julia\n",
    "A((y,p,u), (φ, ψ, v)) = ...\n",
    "L((φ, ψ, v)) = ...\n",
    "```"
   ]
  },
  {
   "attachments": {},
   "cell_type": "markdown",
   "metadata": {},
   "source": [
    "Finally, you solve your system as usual.\n",
    "```julia\n",
    "op = AffineFEOperator(A,L,X,Y)\n",
    "yh, ph, uh = solve(op)\n",
    "\n",
    "writevtk(Ω,\"results\",order=2,cellfields=[\"uh\"=>uh,\"ph\"=>ph, \"uh\"=>uh])\n",
    "```\n",
    "\n",
    "DONE! Now have fun coding this up."
   ]
  },
  {
   "cell_type": "code",
   "execution_count": 14,
   "metadata": {},
   "outputs": [
    {
     "data": {
      "text/plain": [
       "([\"results.vtu\"],)"
      ]
     },
     "execution_count": 14,
     "metadata": {},
     "output_type": "execute_result"
    }
   ],
   "source": [
    "using Gridap\n",
    "using Gridap.Algebra\n",
    "\n",
    "γ = 1e-4\n",
    "β = 1\n",
    "f = 0\n",
    "domain = (0,1,0,1)\n",
    "partition = (50, 50)\n",
    "model = CartesianDiscreteModel(domain, partition) |> simplexify\n",
    "writevtk(model, \"mesh_nx$(partition[1])_ny$(partition[2])\")\n",
    "\n",
    "# Define reference function spaces\n",
    "order = 1 # piecewise constant functions\n",
    "V_ref = ReferenceFE(lagrangian, Float64, order)\n",
    "U_ref = V_ref\n",
    "\n",
    "# Define individual spaces\n",
    "Vy = TestFESpace(model, V_ref, conformity=:H1, dirichlet_tags=\"boundary\")\n",
    "Vp = TestFESpace(model, V_ref, conformity=:H1, dirichlet_tags=\"boundary\")\n",
    "Vu = TestFESpace(model, V_ref, conformity=:H1)\n",
    "\n",
    "# Build the combined space\n",
    "X = MultiFieldFESpace([Vy, Vp, Vu])\n",
    "\n",
    "# Set up measures\n",
    "degree = 2*order\n",
    "Ω = Triangulation(model)\n",
    "dΩ = Measure(Ω, degree)\n",
    "\n",
    "# Define boundary conditions for y and p\n",
    "y_D(x) = 0\n",
    "p_D(x) = 0\n",
    "\n",
    "yΩ(x) = 10*x[1]*(1-x[1])*x[2]*(1-x[2]) # Target function\n",
    "\n",
    "Uy = TrialFESpace(Vy, y_D)\n",
    "Up = TrialFESpace(Vp, p_D)\n",
    "Uu = TrialFESpace(Vu)\n",
    "\n",
    "Y = MultiFieldFESpace([Uy, Up, Uu])\n",
    "\n",
    "A((y, p, u), (φ, ψ, v)) = ∫(∇(y)⋅∇(φ))*dΩ + ∫(∇(p)⋅∇(ψ))*dΩ + ∫((γ*u+β*p)*(v))*dΩ - ∫((y)*(ψ))*dΩ - ∫((β*u)*(φ))*dΩ\n",
    "L((φ, ψ, v)) = ∫((f)*(φ))*dΩ - ∫((yΩ)*(ψ))*dΩ\n",
    "\n",
    "# Solve linear system\n",
    "op = AffineFEOperator(A,L,X,Y)\n",
    "yh, ph, uh = solve(op)\n",
    "\n",
    "writevtk(Ω,\"results\",order=2,cellfields=[\"uh\"=>uh,\"ph\"=>ph, \"uh\"=>uh])"
   ]
  }
 ],
 "metadata": {
  "kernelspec": {
   "display_name": "Julia 1.8.0",
   "language": "julia",
   "name": "julia-1.8"
  },
  "language_info": {
   "file_extension": ".jl",
   "mimetype": "application/julia",
   "name": "julia",
   "version": "1.8.0"
  }
 },
 "nbformat": 4,
 "nbformat_minor": 2
}
